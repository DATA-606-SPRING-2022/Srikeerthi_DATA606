{
  "nbformat": 4,
  "nbformat_minor": 0,
  "metadata": {
    "colab": {
      "name": "DATA606 Part - 01.ipynb",
      "provenance": [],
      "authorship_tag": "ABX9TyOy/FOG6mePTVQSaC1yJjyV",
      "include_colab_link": true
    },
    "kernelspec": {
      "name": "python3",
      "display_name": "Python 3"
    },
    "language_info": {
      "name": "python"
    }
  },
  "cells": [
    {
      "cell_type": "markdown",
      "metadata": {
        "id": "view-in-github",
        "colab_type": "text"
      },
      "source": [
        "<a href=\"https://colab.research.google.com/github/srikeeu/Srikeerthi_DATA606/blob/main/ipynb/DATA606_Part_01.ipynb\" target=\"_parent\"><img src=\"https://colab.research.google.com/assets/colab-badge.svg\" alt=\"Open In Colab\"/></a>"
      ]
    },
    {
      "cell_type": "code",
      "execution_count": null,
      "metadata": {
        "id": "V50UTNc_a6cb"
      },
      "outputs": [],
      "source": [
        "# DATA606 Part - 01 \n",
        "\n",
        "## Author : Srikeerthi Upperla \n",
        "\n",
        "This is the first part of the capstone project. This part focuses mostly on DATA loading and cleansing\n",
        "\n"
      ]
    },
    {
      "cell_type": "markdown",
      "source": [
        ""
      ],
      "metadata": {
        "id": "_4y1BpFlbx8C"
      }
    }
  ]
}